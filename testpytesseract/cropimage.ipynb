{
 "cells": [
  {
   "cell_type": "code",
   "execution_count": 22,
   "metadata": {},
   "outputs": [
    {
     "name": "stdout",
     "output_type": "stream",
     "text": [
      "width:  1290\n",
      "height: 2017\n"
     ]
    },
    {
     "data": {
      "text/plain": [
       "-1"
      ]
     },
     "execution_count": 22,
     "metadata": {},
     "output_type": "execute_result"
    }
   ],
   "source": [
    "import cv2\n",
    "import os\n",
    "img = cv2.imread(\"D:\\\\homework\\\\D4-1\\\\OCR_ReceiptWise\\\\testpytesseract\\\\dataset\\\\scb\\\\preprocessed\\\\preprocessed_IMG_1014.JPG\")\n",
    "crop_img = img[665:775, 200:1280]\n",
    "h, w, _ = img.shape\n",
    "print('width: ', w)\n",
    "print('height:', h)\n",
    "cv2.imshow(\"cropped\", crop_img)\n",
    "cv2.waitKey(0)\n",
    "# cv2.imwrite(\"D:\\\\homework\\\\D4-1\\\\OCR_ReceiptWise\\\\testpytesseract\\dataset\\\\aomsin\\\\section\\\\crop\\\\amount\\\\test.jpg\", crop_img)"
   ]
  }
 ],
 "metadata": {
  "kernelspec": {
   "display_name": "Python 3",
   "language": "python",
   "name": "python3"
  },
  "language_info": {
   "codemirror_mode": {
    "name": "ipython",
    "version": 3
   },
   "file_extension": ".py",
   "mimetype": "text/x-python",
   "name": "python",
   "nbconvert_exporter": "python",
   "pygments_lexer": "ipython3",
   "version": "3.8.10"
  }
 },
 "nbformat": 4,
 "nbformat_minor": 2
}
